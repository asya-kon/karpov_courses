{
 "cells": [
  {
   "cell_type": "code",
   "execution_count": 1,
   "metadata": {},
   "outputs": [],
   "source": [
    "import pandas as pd\n",
    "import matplotlib.pyplot as plt\n",
    "\n",
    "from scipy import stats\n",
    "from statsmodels.stats.proportion import proportion_confint"
   ]
  },
  {
   "cell_type": "markdown",
   "metadata": {},
   "source": [
    "## **Задание №1**\n",
    "### Написать функцию, которая будет считать retention игроков (по дням от даты регистрации игрока)."
   ]
  },
  {
   "cell_type": "code",
   "execution_count": 2,
   "metadata": {},
   "outputs": [],
   "source": [
    "def calculate_retention(reg_data, auth_data):\n",
    "    # Загружаем данные о времени регистрации и времени захода пользователей\n",
    "    reg_data = reg_data.copy()\n",
    "    auth_data = auth_data.copy()\n",
    "\n",
    "    # Преобразуем timestamp в формат даты\n",
    "    reg_data['reg_date'] = pd.to_datetime(reg_data['reg_ts'], unit='s').dt.date\n",
    "    auth_data['auth_date'] = pd.to_datetime(auth_data['auth_ts'], unit='s').dt.date\n",
    "\n",
    "    # Слияние данных по uid\n",
    "    merged_data = pd.merge(reg_data, auth_data, on='uid', how='inner')\n",
    "\n",
    "    # Создаем столбец с датами заходов в игру после регистрации\n",
    "    merged_data['retention_days'] = (merged_data['auth_date'] - merged_data['reg_date']).dt.days\n",
    "\n",
    "    # Группируем данные по retention_days и подсчитываем уникальные uid\n",
    "    retention_counts = merged_data.groupby('retention_days')['uid'].nunique().reset_index()\n",
    "\n",
    "    # Переименовываем столбцы для более ясного понимания\n",
    "    retention_counts.rename(columns={'retention_days': 'days_after_registration', 'uid': 'unique_users'}, inplace=True)\n",
    "\n",
    "    return retention_counts"
   ]
  },
  {
   "cell_type": "code",
   "execution_count": 3,
   "metadata": {},
   "outputs": [],
   "source": [
    "# Загружаем имеющиеся данные о времени регистрации и времени захода пользователей\n",
    "reg_data=pd.read_csv('/mnt/HC_Volume_18315164/home-jupyter/jupyter-a-kondrashkina/shared/problem1-reg_data.csv',sep=\";\")\n",
    "auth_data=pd.read_csv('/mnt/HC_Volume_18315164/home-jupyter/jupyter-a-kondrashkina/shared/problem1-auth_data.csv',sep=\";\")"
   ]
  },
  {
   "cell_type": "code",
   "execution_count": 4,
   "metadata": {},
   "outputs": [
    {
     "data": {
      "text/html": [
       "<div>\n",
       "<style scoped>\n",
       "    .dataframe tbody tr th:only-of-type {\n",
       "        vertical-align: middle;\n",
       "    }\n",
       "\n",
       "    .dataframe tbody tr th {\n",
       "        vertical-align: top;\n",
       "    }\n",
       "\n",
       "    .dataframe thead th {\n",
       "        text-align: right;\n",
       "    }\n",
       "</style>\n",
       "<table border=\"1\" class=\"dataframe\">\n",
       "  <thead>\n",
       "    <tr style=\"text-align: right;\">\n",
       "      <th></th>\n",
       "      <th>reg_ts</th>\n",
       "      <th>uid</th>\n",
       "    </tr>\n",
       "  </thead>\n",
       "  <tbody>\n",
       "    <tr>\n",
       "      <th>0</th>\n",
       "      <td>911382223</td>\n",
       "      <td>1</td>\n",
       "    </tr>\n",
       "    <tr>\n",
       "      <th>1</th>\n",
       "      <td>932683089</td>\n",
       "      <td>2</td>\n",
       "    </tr>\n",
       "    <tr>\n",
       "      <th>2</th>\n",
       "      <td>947802447</td>\n",
       "      <td>3</td>\n",
       "    </tr>\n",
       "    <tr>\n",
       "      <th>3</th>\n",
       "      <td>959523541</td>\n",
       "      <td>4</td>\n",
       "    </tr>\n",
       "    <tr>\n",
       "      <th>4</th>\n",
       "      <td>969103313</td>\n",
       "      <td>5</td>\n",
       "    </tr>\n",
       "  </tbody>\n",
       "</table>\n",
       "</div>"
      ],
      "text/plain": [
       "      reg_ts  uid\n",
       "0  911382223    1\n",
       "1  932683089    2\n",
       "2  947802447    3\n",
       "3  959523541    4\n",
       "4  969103313    5"
      ]
     },
     "execution_count": 4,
     "metadata": {},
     "output_type": "execute_result"
    }
   ],
   "source": [
    "reg_data.head()"
   ]
  },
  {
   "cell_type": "code",
   "execution_count": 5,
   "metadata": {},
   "outputs": [
    {
     "data": {
      "text/html": [
       "<div>\n",
       "<style scoped>\n",
       "    .dataframe tbody tr th:only-of-type {\n",
       "        vertical-align: middle;\n",
       "    }\n",
       "\n",
       "    .dataframe tbody tr th {\n",
       "        vertical-align: top;\n",
       "    }\n",
       "\n",
       "    .dataframe thead th {\n",
       "        text-align: right;\n",
       "    }\n",
       "</style>\n",
       "<table border=\"1\" class=\"dataframe\">\n",
       "  <thead>\n",
       "    <tr style=\"text-align: right;\">\n",
       "      <th></th>\n",
       "      <th>auth_ts</th>\n",
       "      <th>uid</th>\n",
       "    </tr>\n",
       "  </thead>\n",
       "  <tbody>\n",
       "    <tr>\n",
       "      <th>0</th>\n",
       "      <td>911382223</td>\n",
       "      <td>1</td>\n",
       "    </tr>\n",
       "    <tr>\n",
       "      <th>1</th>\n",
       "      <td>932683089</td>\n",
       "      <td>2</td>\n",
       "    </tr>\n",
       "    <tr>\n",
       "      <th>2</th>\n",
       "      <td>932921206</td>\n",
       "      <td>2</td>\n",
       "    </tr>\n",
       "    <tr>\n",
       "      <th>3</th>\n",
       "      <td>933393015</td>\n",
       "      <td>2</td>\n",
       "    </tr>\n",
       "    <tr>\n",
       "      <th>4</th>\n",
       "      <td>933875379</td>\n",
       "      <td>2</td>\n",
       "    </tr>\n",
       "  </tbody>\n",
       "</table>\n",
       "</div>"
      ],
      "text/plain": [
       "     auth_ts  uid\n",
       "0  911382223    1\n",
       "1  932683089    2\n",
       "2  932921206    2\n",
       "3  933393015    2\n",
       "4  933875379    2"
      ]
     },
     "execution_count": 5,
     "metadata": {},
     "output_type": "execute_result"
    }
   ],
   "source": [
    "auth_data.head()"
   ]
  },
  {
   "cell_type": "code",
   "execution_count": 6,
   "metadata": {},
   "outputs": [
    {
     "data": {
      "text/plain": [
       "reg_ts    int64\n",
       "uid       int64\n",
       "dtype: object"
      ]
     },
     "execution_count": 6,
     "metadata": {},
     "output_type": "execute_result"
    }
   ],
   "source": [
    "reg_data.dtypes"
   ]
  },
  {
   "cell_type": "code",
   "execution_count": 7,
   "metadata": {},
   "outputs": [
    {
     "data": {
      "text/plain": [
       "auth_ts    int64\n",
       "uid        int64\n",
       "dtype: object"
      ]
     },
     "execution_count": 7,
     "metadata": {},
     "output_type": "execute_result"
    }
   ],
   "source": [
    "auth_data.dtypes"
   ]
  },
  {
   "cell_type": "code",
   "execution_count": 8,
   "metadata": {},
   "outputs": [],
   "source": [
    "# Создаем сэмплы массивов\n",
    "reg_data_test=reg_data.head(5000)\n",
    "auth_data_test=auth_data.head(5000)"
   ]
  },
  {
   "cell_type": "code",
   "execution_count": 9,
   "metadata": {},
   "outputs": [
    {
     "data": {
      "text/html": [
       "<div>\n",
       "<style scoped>\n",
       "    .dataframe tbody tr th:only-of-type {\n",
       "        vertical-align: middle;\n",
       "    }\n",
       "\n",
       "    .dataframe tbody tr th {\n",
       "        vertical-align: top;\n",
       "    }\n",
       "\n",
       "    .dataframe thead th {\n",
       "        text-align: right;\n",
       "    }\n",
       "</style>\n",
       "<table border=\"1\" class=\"dataframe\">\n",
       "  <thead>\n",
       "    <tr style=\"text-align: right;\">\n",
       "      <th></th>\n",
       "      <th>days_after_registration</th>\n",
       "      <th>unique_users</th>\n",
       "    </tr>\n",
       "  </thead>\n",
       "  <tbody>\n",
       "    <tr>\n",
       "      <th>0</th>\n",
       "      <td>0</td>\n",
       "      <td>719</td>\n",
       "    </tr>\n",
       "    <tr>\n",
       "      <th>1</th>\n",
       "      <td>1</td>\n",
       "      <td>16</td>\n",
       "    </tr>\n",
       "    <tr>\n",
       "      <th>2</th>\n",
       "      <td>2</td>\n",
       "      <td>27</td>\n",
       "    </tr>\n",
       "    <tr>\n",
       "      <th>3</th>\n",
       "      <td>3</td>\n",
       "      <td>42</td>\n",
       "    </tr>\n",
       "    <tr>\n",
       "      <th>4</th>\n",
       "      <td>4</td>\n",
       "      <td>31</td>\n",
       "    </tr>\n",
       "    <tr>\n",
       "      <th>...</th>\n",
       "      <td>...</td>\n",
       "      <td>...</td>\n",
       "    </tr>\n",
       "    <tr>\n",
       "      <th>1504</th>\n",
       "      <td>3311</td>\n",
       "      <td>1</td>\n",
       "    </tr>\n",
       "    <tr>\n",
       "      <th>1505</th>\n",
       "      <td>3317</td>\n",
       "      <td>1</td>\n",
       "    </tr>\n",
       "    <tr>\n",
       "      <th>1506</th>\n",
       "      <td>3323</td>\n",
       "      <td>1</td>\n",
       "    </tr>\n",
       "    <tr>\n",
       "      <th>1507</th>\n",
       "      <td>3325</td>\n",
       "      <td>1</td>\n",
       "    </tr>\n",
       "    <tr>\n",
       "      <th>1508</th>\n",
       "      <td>3332</td>\n",
       "      <td>1</td>\n",
       "    </tr>\n",
       "  </tbody>\n",
       "</table>\n",
       "<p>1509 rows × 2 columns</p>\n",
       "</div>"
      ],
      "text/plain": [
       "      days_after_registration  unique_users\n",
       "0                           0           719\n",
       "1                           1            16\n",
       "2                           2            27\n",
       "3                           3            42\n",
       "4                           4            31\n",
       "...                       ...           ...\n",
       "1504                     3311             1\n",
       "1505                     3317             1\n",
       "1506                     3323             1\n",
       "1507                     3325             1\n",
       "1508                     3332             1\n",
       "\n",
       "[1509 rows x 2 columns]"
      ]
     },
     "execution_count": 9,
     "metadata": {},
     "output_type": "execute_result"
    }
   ],
   "source": [
    "# Вызываем написанную функцию\n",
    "retention_counts=calculate_retention(reg_data_test, auth_data_test)\n",
    "retention_counts"
   ]
  },
  {
   "cell_type": "code",
   "execution_count": 10,
   "metadata": {},
   "outputs": [
    {
     "data": {
      "image/png": "[encoded data removed]",
      "text/plain": [
       "<Figure size 720x432 with 1 Axes>"
      ]
     },
     "metadata": {
      "needs_background": "light"
     },
     "output_type": "display_data"
    }
   ],
   "source": [
    "# Изобразим Retention игроков (по дням от даты регистрации игрока)\n",
    "plt.figure(figsize=(10, 6))  \n",
    "plt.plot(retention_counts['days_after_registration'], retention_counts['unique_users'], linestyle='-', marker='o', color='b')\n",
    "plt.xlabel('Дни удержания после регистрации')\n",
    "plt.ylabel('Количество пользователей')\n",
    "plt.title('Retention по дням')\n",
    "plt.grid(True)  # Добавим сетку на график\n",
    "plt.tight_layout()  # Избавимся от обрезания подписей осей\n",
    "plt.show()"
   ]
  },
  {
   "cell_type": "code",
   "execution_count": 11,
   "metadata": {},
   "outputs": [
    {
     "data": {
      "image/png": "[encoded data removed]",
      "text/plain": [
       "<Figure size 720x432 with 1 Axes>"
      ]
     },
     "metadata": {
      "needs_background": "light"
     },
     "output_type": "display_data"
    }
   ],
   "source": [
    "# График Retention первых 100 дней\n",
    "retention_counts_100 = retention_counts.head(100)\n",
    "plt.figure(figsize=(10, 6))  \n",
    "plt.plot(retention_counts_100['days_after_registration'], retention_counts_100['unique_users'], linestyle='-', marker='o', color='b')\n",
    "plt.xlabel('Дни удержания после регистрации')\n",
    "plt.ylabel('Количество пользователей')\n",
    "plt.title('Retention по дням')\n",
    "plt.grid(True)  # Добавим сетку на график\n",
    "plt.tight_layout()  # Избавимся от обрезания подписей осей\n",
    "plt.show()"
   ]
  },
  {
   "cell_type": "markdown",
   "metadata": {},
   "source": [
    "### **Вывод:**\n",
    "#### Активность пользователей после регистрации можно разделить на следующие этапы:\n",
    "1. Первый день после регистрации (0 день) имеет наибольшее количество уникальных пользователей - 719. Это может быть связано с тем, что большинство пользователей активно вовлекаются в приложение сразу после регистрации.\n",
    "\n",
    "2. Во второй день после регистрации (1 день), количество уникальных пользователей снижается значительно до 16. Это может указывать на проблемы с удержанием пользователей после первого дня использования приложения.\n",
    "\n",
    "3. С 2 по 6 день после регистрации, количество уникальных пользователей постепенно увеличивается, достигая пика в 67 уникальных пользователей на 6 день. Это может свидетельствовать о том, что в этот период пользователи всё ещё активны и заинтересованы в использовании приложения.\n",
    "\n",
    "4. С 7 по 12 день после регистрации, количество уникальных пользователей снова начинает уменьшаться, но остается на относительно стабильном уровне около 30-40 уникальных пользователей.\n",
    "\n",
    "5. С 13 по 31 день после регистрации, количество уникальных пользователей держится на относительно стабильном уровне около 10-35 уникальных пользователей.\n",
    "\n",
    "6. После 31 дня после регистрации, количество уникальных пользователей дальше снижается и держится на низком уровне от 5 до 15 уникальных пользователей. Далее пройсходит снижение до 1 уникального пользователя в день."
   ]
  },
  {
   "cell_type": "code",
   "execution_count": null,
   "metadata": {},
   "outputs": [],
   "source": []
  },
  {
   "cell_type": "code",
   "execution_count": null,
   "metadata": {},
   "outputs": [],
   "source": []
  },
  {
   "cell_type": "markdown",
   "metadata": {},
   "source": [
    "## **Задание №2**\n",
    "### На основе результатов A/B теста выявить:\n",
    "### Какой набор предложений можно считать лучшим? Какие метрики стоит проанализировать для принятия правильного решения и как?"
   ]
  },
  {
   "cell_type": "code",
   "execution_count": 12,
   "metadata": {},
   "outputs": [],
   "source": [
    "# Загрузка данных из CSV файла\n",
    "data = pd.read_csv('/mnt/HC_Volume_18315164/home-jupyter/jupyter-a-kondrashkina/Проект_1_Задание_2.csv',sep=';')"
   ]
  },
  {
   "cell_type": "code",
   "execution_count": 13,
   "metadata": {},
   "outputs": [
    {
     "data": {
      "text/html": [
       "<div>\n",
       "<style scoped>\n",
       "    .dataframe tbody tr th:only-of-type {\n",
       "        vertical-align: middle;\n",
       "    }\n",
       "\n",
       "    .dataframe tbody tr th {\n",
       "        vertical-align: top;\n",
       "    }\n",
       "\n",
       "    .dataframe thead th {\n",
       "        text-align: right;\n",
       "    }\n",
       "</style>\n",
       "<table border=\"1\" class=\"dataframe\">\n",
       "  <thead>\n",
       "    <tr style=\"text-align: right;\">\n",
       "      <th></th>\n",
       "      <th>user_id</th>\n",
       "      <th>revenue</th>\n",
       "      <th>testgroup</th>\n",
       "    </tr>\n",
       "  </thead>\n",
       "  <tbody>\n",
       "    <tr>\n",
       "      <th>0</th>\n",
       "      <td>1</td>\n",
       "      <td>0</td>\n",
       "      <td>b</td>\n",
       "    </tr>\n",
       "    <tr>\n",
       "      <th>1</th>\n",
       "      <td>2</td>\n",
       "      <td>0</td>\n",
       "      <td>a</td>\n",
       "    </tr>\n",
       "    <tr>\n",
       "      <th>2</th>\n",
       "      <td>3</td>\n",
       "      <td>0</td>\n",
       "      <td>a</td>\n",
       "    </tr>\n",
       "    <tr>\n",
       "      <th>3</th>\n",
       "      <td>4</td>\n",
       "      <td>0</td>\n",
       "      <td>b</td>\n",
       "    </tr>\n",
       "    <tr>\n",
       "      <th>4</th>\n",
       "      <td>5</td>\n",
       "      <td>0</td>\n",
       "      <td>b</td>\n",
       "    </tr>\n",
       "  </tbody>\n",
       "</table>\n",
       "</div>"
      ],
      "text/plain": [
       "   user_id  revenue testgroup\n",
       "0        1        0         b\n",
       "1        2        0         a\n",
       "2        3        0         a\n",
       "3        4        0         b\n",
       "4        5        0         b"
      ]
     },
     "execution_count": 13,
     "metadata": {},
     "output_type": "execute_result"
    }
   ],
   "source": [
    "data.head()"
   ]
  },
  {
   "cell_type": "code",
   "execution_count": 14,
   "metadata": {},
   "outputs": [
    {
     "data": {
      "text/plain": [
       "user_id       int64\n",
       "revenue       int64\n",
       "testgroup    object\n",
       "dtype: object"
      ]
     },
     "execution_count": 14,
     "metadata": {},
     "output_type": "execute_result"
    }
   ],
   "source": [
    "data.dtypes"
   ]
  },
  {
   "cell_type": "code",
   "execution_count": 15,
   "metadata": {},
   "outputs": [
    {
     "name": "stdout",
     "output_type": "stream",
     "text": [
      "user_id      0\n",
      "revenue      0\n",
      "testgroup    0\n",
      "dtype: int64\n"
     ]
    }
   ],
   "source": [
    "print(data.isnull().sum())"
   ]
  },
  {
   "cell_type": "code",
   "execution_count": 16,
   "metadata": {},
   "outputs": [
    {
     "name": "stdout",
     "output_type": "stream",
     "text": [
      "['b' 'a']\n"
     ]
    }
   ],
   "source": [
    "print(data['testgroup'].unique())"
   ]
  },
  {
   "cell_type": "code",
   "execution_count": 17,
   "metadata": {},
   "outputs": [
    {
     "data": {
      "text/html": [
       "<div>\n",
       "<style scoped>\n",
       "    .dataframe tbody tr th:only-of-type {\n",
       "        vertical-align: middle;\n",
       "    }\n",
       "\n",
       "    .dataframe tbody tr th {\n",
       "        vertical-align: top;\n",
       "    }\n",
       "\n",
       "    .dataframe thead th {\n",
       "        text-align: right;\n",
       "    }\n",
       "</style>\n",
       "<table border=\"1\" class=\"dataframe\">\n",
       "  <thead>\n",
       "    <tr style=\"text-align: right;\">\n",
       "      <th></th>\n",
       "      <th>testgroup</th>\n",
       "      <th>user_id</th>\n",
       "    </tr>\n",
       "  </thead>\n",
       "  <tbody>\n",
       "    <tr>\n",
       "      <th>0</th>\n",
       "      <td>a</td>\n",
       "      <td>202103</td>\n",
       "    </tr>\n",
       "    <tr>\n",
       "      <th>1</th>\n",
       "      <td>b</td>\n",
       "      <td>202667</td>\n",
       "    </tr>\n",
       "  </tbody>\n",
       "</table>\n",
       "</div>"
      ],
      "text/plain": [
       "  testgroup  user_id\n",
       "0         a   202103\n",
       "1         b   202667"
      ]
     },
     "execution_count": 17,
     "metadata": {},
     "output_type": "execute_result"
    }
   ],
   "source": [
    "data.groupby('testgroup', as_index=False).agg({'user_id':'count'})"
   ]
  },
  {
   "cell_type": "code",
   "execution_count": 18,
   "metadata": {},
   "outputs": [],
   "source": [
    "# Разделение данных на контрольную и тестовую группы\n",
    "control_group = data[data['testgroup'] == 'a']\n",
    "test_group = data[data['testgroup'] == 'b']"
   ]
  },
  {
   "cell_type": "code",
   "execution_count": 19,
   "metadata": {},
   "outputs": [],
   "source": [
    "# Расчет ARPU\n",
    "arpu_control = control_group['revenue'].mean()\n",
    "arpu_test = test_group['revenue'].mean()"
   ]
  },
  {
   "cell_type": "code",
   "execution_count": 20,
   "metadata": {},
   "outputs": [],
   "source": [
    "# Расчет конверсии\n",
    "paying_users_control = control_group[control_group['revenue'] > 0]['user_id'].count()\n",
    "paying_users_test = test_group[test_group['revenue'] > 0]['user_id'].count()\n",
    "\n",
    "conversion_control = paying_users_control / control_group['user_id'].count() if control_group['user_id'].count() > 0 else 0\n",
    "conversion_test = paying_users_test / test_group['user_id'].count() if test_group['user_id'].count() > 0 else 0"
   ]
  },
  {
   "cell_type": "code",
   "execution_count": 21,
   "metadata": {},
   "outputs": [],
   "source": [
    "# Расчет удержания\n",
    "unique_paying_users_control = control_group[control_group['revenue'] > 0]['user_id'].nunique()\n",
    "unique_paying_users_test = test_group[test_group['revenue'] > 0]['user_id'].nunique()\n",
    "\n",
    "retention_control = unique_paying_users_control / control_group['user_id'].nunique() if control_group['user_id'].nunique() > 0 else 0\n",
    "retention_test = unique_paying_users_test / test_group['user_id'].nunique() if test_group['user_id'].nunique() > 0 else 0"
   ]
  },
  {
   "cell_type": "code",
   "execution_count": 22,
   "metadata": {},
   "outputs": [],
   "source": [
    "# Рассчитаем доверительные интервалы для Conversion Rate в каждой группе методом аппроксимации\n",
    "conf_interval_conversion_rate_a = proportion_confint(sum(data[data['testgroup'] == 'a']['revenue'] > 0), len(data[data['testgroup'] == 'a']), method='wilson')\n",
    "conf_interval_conversion_rate_b = proportion_confint(sum(data[data['testgroup'] == 'b']['revenue'] > 0), len(data[data['testgroup'] == 'b']), method='wilson')"
   ]
  },
  {
   "cell_type": "code",
   "execution_count": 23,
   "metadata": {},
   "outputs": [],
   "source": [
    "# Проведение t-теста для статистической значимости различий ARPU\n",
    "t_stat, p_value = stats.ttest_ind(control_group['revenue'], test_group['revenue'], equal_var=False, nan_policy='omit')"
   ]
  },
  {
   "cell_type": "code",
   "execution_count": 24,
   "metadata": {},
   "outputs": [],
   "source": [
    "# Проверка статистической значимости\n",
    "if pd.notna(p_value) and p_value < 0.05:\n",
    "    significance = \"Есть статистически значимая разница\"\n",
    "else:\n",
    "    significance = \"Нет статистически значимой разницы\""
   ]
  },
  {
   "cell_type": "code",
   "execution_count": 25,
   "metadata": {},
   "outputs": [
    {
     "name": "stdout",
     "output_type": "stream",
     "text": [
      "ARPU в контрольной группе: 25.413719736965806\n",
      "ARPU в тестовой группе: 26.75128659327863\n",
      "Conversion Rate в контрольной группе: 0.009539690157988749\n",
      "Conversion Rate в тестовой группе: 0.008906235351586593\n",
      "Retention Rate в контрольной группе: 0.009539690157988749\n",
      "Retention Rate в тестовой группе: 0.008906235351586593\n",
      "Confidence Interval for Conversion Rate in Group a:\n",
      "(0.0091251271180948, 0.009972897624462651)\n",
      "\n",
      "Confidence Interval for Conversion Rate in Group b:\n",
      "(0.008506406082001199, 0.00932468117657204)\n",
      "p-value для различия ARPU: 0.5329647014130866\n",
      "Нет статистически значимой разницы\n"
     ]
    }
   ],
   "source": [
    "# Вывод результатов\n",
    "print(f'ARPU в контрольной группе: {arpu_control}')\n",
    "print(f'ARPU в тестовой группе: {arpu_test}')\n",
    "print(f'Conversion Rate в контрольной группе: {conversion_control}')\n",
    "print(f'Conversion Rate в тестовой группе: {conversion_test}')\n",
    "print(f'Retention Rate в контрольной группе: {retention_control}')\n",
    "print(f'Retention Rate в тестовой группе: {retention_test}')\n",
    "print(\"Confidence Interval for Conversion Rate in Group a:\")\n",
    "print(conf_interval_conversion_rate_a)\n",
    "print(\"\\nConfidence Interval for Conversion Rate in Group b:\")\n",
    "print(conf_interval_conversion_rate_b)\n",
    "print(f'p-value для различия ARPU: {p_value}')\n",
    "print(significance)"
   ]
  },
  {
   "cell_type": "markdown",
   "metadata": {},
   "source": [
    "### Интерпретация результатов A/B теста:\n",
    "\n",
    "ARPU (Average Revenue Per User) в тестовой группе (26.75) выше, чем в контрольной группе (25.41). Это означает, что пользователи из тестовой группы принесли в среднем больше дохода, чем пользователи из контрольной группы.\n",
    "\n",
    "Conversion Rate (процент пользователей, совершивших целевое действие) в контрольной группе (0.00954) немного выше, чем в тестовой группе (0.00891). Однако, разница между Conversion Rate в группах также очень небольшая.\n",
    "\n",
    "Retention Rate (процент пользователей, вернувшихся и совершивших целевое действие) в контрольной и тестовой группах также практически идентичен, так как значения Conversion Rate и Retention Rate одинаковы.\n",
    "\n",
    "P-value для различия ARPU составляет 0.533, что превышает стандартный уровень статистической значимости 0.05. Это означает, что различия в ARPU между группами не являются статистически значимыми. Таким образом, нулевая гипотеза, которая утверждает отсутствие разницы между группами, не может быть отклонена.\n",
    "\n",
    "Доверительные интервалы для Conversion Rate в обеих группах достаточно узкие, что указывает на достаточно точные оценки метрик.\n",
    "\n",
    "Итак, на основе предоставленных данных можно сделать вывод, что хотя ARPU в тестовой группе выше, чем в контрольной, разница не является статистически значимой. Кроме того, Conversion Rate и Retention Rate практически идентичны в обеих группах. Это может означать, что предложенные акционные предложения влияют на поведение пользователей, но эффект незначителен.\n",
    "\n",
    "Важно также отметить, что результаты могут быть сильно зависимы от конкретных данных и условий A/B теста. Для более надежных выводов рекомендуется провести более длительное тестирование с большим количеством пользователей или рассмотреть другие факторы, которые могут повлиять на результаты теста."
   ]
  },
  {
   "cell_type": "code",
   "execution_count": null,
   "metadata": {},
   "outputs": [],
   "source": []
  },
  {
   "cell_type": "code",
   "execution_count": null,
   "metadata": {},
   "outputs": [],
   "source": []
  },
  {
   "cell_type": "markdown",
   "metadata": {},
   "source": [
    "## **Задание №3**\n",
    "### С помощью каких метрик можно оценить результаты последнего прошедшего события? Предположим, в другом событии мы усложнили механику событий так, что при каждой неудачной попытке выполнения уровня игрок будет откатываться на несколько уровней назад. Изменится ли набор метрик оценки результата? Если да, то как?"
   ]
  },
  {
   "cell_type": "markdown",
   "metadata": {},
   "source": [
    "### Для оценки результатов последнего прошедшего события в игре Plants & Gardens можно использовать следующие метрики:\n",
    "\n",
    "1. Conversion Rate: Процент игроков, которые приступили к прохождению уровней события от общего числа уникальных игроков, которые зашли в игру во время события. Это позволит оценить, насколько хорошо игроки реагировали на событие и начали выполнять задания.\n",
    "\n",
    "2. Retention Rate: Процент игроков, которые успешно завершили событие от числа тех, кто приступил к выполнению уровней события. Это покажет, какая часть игроков смогла завершить событие.\n",
    "\n",
    "3. Average Progress: Средний прогресс игроков в прохождении уровней события. Может быть измерен, например, в виде среднего номера уровня, на котором остановились игроки, или среднего количества пройденных уровней. Это поможет понять, насколько успешно игроки выполняли задания.\n",
    "\n",
    "4. Churn Rate: Процент игроков, которые прекратили участие в событии без его завершения. Это позволит определить, насколько сложно было событие и какие уровни или моменты в событии могут вызывать отток игроков.\n",
    "\n",
    "5. Time Spent: Среднее время, которое игроки провели в игре во время события. Это покажет, насколько событие было привлекательным для игроков и как долго они уделяли ему внимание.\n",
    "\n",
    "Относительно изменений в механике событий, когда неудачная попытка приводит к откату на несколько уровней назад, набор метрик для оценки результата может измениться. В частности, метрики Retention Rate и Churn Rate могут быть более чувствительными к такому изменению. Теперь игроки, столкнувшись с более сложными уровнями и неудачами, могут проявлять большую вероятность оттока из события. Это может повлиять на Retention Rate, так как завершение события может стать сложнее.\n",
    "\n",
    "Также метрики Average Progress и Time Spent могут измениться, так как игрокам может потребоваться больше времени и усилий для прогресса в событии.\n",
    "\n",
    "Поэтому, при изменении механики событий, важно переоценить и адаптировать метрики, которые наиболее точно отражают интерес и вовлеченность игроков в событие. Некоторые метрики могут остаться актуальными, но важно учитывать контекст и специфику изменений в событиях при анализе результатов."
   ]
  },
  {
   "cell_type": "code",
   "execution_count": null,
   "metadata": {},
   "outputs": [],
   "source": []
  },
  {
   "cell_type": "code",
   "execution_count": null,
   "metadata": {},
   "outputs": [],
   "source": []
  }
 ],
 "metadata": {
  "kernelspec": {
   "display_name": "Python 3",
   "language": "python",
   "name": "python3"
  },
  "language_info": {
   "codemirror_mode": {
    "name": "ipython",
    "version": 3
   },
   "file_extension": ".py",
   "mimetype": "text/x-python",
   "name": "python",
   "nbconvert_exporter": "python",
   "pygments_lexer": "ipython3",
   "version": "3.7.3"
  }
 },
 "nbformat": 4,
 "nbformat_minor": 4
}
